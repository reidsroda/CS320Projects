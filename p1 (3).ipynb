{
 "cells": [
  {
   "cell_type": "code",
   "execution_count": 1,
   "id": "03de03ca",
   "metadata": {},
   "outputs": [],
   "source": [
    "# project: p1\n",
    "# submitter: rgsroda\n",
    "# partner: none\n",
    "# hours: 10"
   ]
  },
  {
   "cell_type": "code",
   "execution_count": 2,
   "id": "0d061177",
   "metadata": {},
   "outputs": [
    {
     "data": {
      "text/plain": [
       "float"
      ]
     },
     "execution_count": 2,
     "metadata": {},
     "output_type": "execute_result"
    }
   ],
   "source": [
    "#q1\n",
    "type(7/2)"
   ]
  },
  {
   "cell_type": "code",
   "execution_count": 3,
   "id": "8714f41b",
   "metadata": {},
   "outputs": [
    {
     "data": {
      "text/plain": [
       "True"
      ]
     },
     "execution_count": 3,
     "metadata": {},
     "output_type": "execute_result"
    }
   ],
   "source": [
    "#q2\n",
    "x = 4\n",
    "maximum = 10\n",
    "minimum = 5\n",
    "error = x < minimum or x > 10 # True if x is outside the minimum-to-maximum range\n",
    "error"
   ]
  },
  {
   "cell_type": "code",
   "execution_count": 4,
   "id": "7d463488",
   "metadata": {},
   "outputs": [
    {
     "data": {
      "text/plain": [
       "True"
      ]
     },
     "execution_count": 4,
     "metadata": {},
     "output_type": "execute_result"
    }
   ],
   "source": [
    "#q3\n",
    "word = \"KAFKAESQUE\"\n",
    "suffix_match = word[-5:] == \"ESQUE\" # .endswith(...) method not allowed for this question! (practice slicing)\n",
    "suffix_match "
   ]
  },
  {
   "cell_type": "code",
   "execution_count": 5,
   "id": "c5f7f406",
   "metadata": {},
   "outputs": [
    {
     "data": {
      "text/plain": [
       "7"
      ]
     },
     "execution_count": 5,
     "metadata": {},
     "output_type": "execute_result"
    }
   ],
   "source": [
    "#q4\n",
    "def add(x,y=1):\n",
    "    result = x + y\n",
    "    return result\n",
    "    \n",
    "add(3,4)"
   ]
  },
  {
   "cell_type": "code",
   "execution_count": 6,
   "id": "cbfb8c44",
   "metadata": {},
   "outputs": [
    {
     "data": {
      "text/plain": [
       "10"
      ]
     },
     "execution_count": 6,
     "metadata": {},
     "output_type": "execute_result"
    }
   ],
   "source": [
    "#q5\n",
    "add(9)"
   ]
  },
  {
   "cell_type": "code",
   "execution_count": 7,
   "id": "309bb0a9",
   "metadata": {},
   "outputs": [
    {
     "data": {
      "text/plain": [
       "'positive'"
      ]
     },
     "execution_count": 7,
     "metadata": {},
     "output_type": "execute_result"
    }
   ],
   "source": [
    "#q6\n",
    "x = 4\n",
    "if x<0:\n",
    "    status = \"negative\"\n",
    "elif x>0:\n",
    "    status = \"positive\"\n",
    "else:\n",
    "    status = \"zero\"\n",
    "status"
   ]
  },
  {
   "cell_type": "code",
   "execution_count": 8,
   "id": "972996d4",
   "metadata": {},
   "outputs": [
    {
     "data": {
      "text/plain": [
       "14"
      ]
     },
     "execution_count": 8,
     "metadata": {},
     "output_type": "execute_result"
    }
   ],
   "source": [
    "#q7\n",
    "nums = [3, 4, 1, 6]\n",
    "\n",
    "def smart_count(list):\n",
    "    total = 0\n",
    "    for i in range(0,len(list)):\n",
    "        if list[i] < 0:\n",
    "                break\n",
    "        if list[i] <= 10:\n",
    "            total = total + list[i]\n",
    "            continue\n",
    "    return total\n",
    "smart_count(nums)"
   ]
  },
  {
   "cell_type": "code",
   "execution_count": 9,
   "id": "d8c586fa",
   "metadata": {},
   "outputs": [
    {
     "data": {
      "text/plain": [
       "6"
      ]
     },
     "execution_count": 9,
     "metadata": {},
     "output_type": "execute_result"
    }
   ],
   "source": [
    "#q8\n",
    "smart_count([2,1,11,3,15,-1,8,2])"
   ]
  },
  {
   "cell_type": "code",
   "execution_count": 10,
   "id": "f95a4f55",
   "metadata": {},
   "outputs": [
    {
     "data": {
      "text/plain": [
       "[[1, 6, {'x': 8, 'y': 5}],\n",
       " [3, 4, {'x': 9, 'y': 2}],\n",
       " [5, 2, {'x': 3, 'y': 1, 'z': 3.14}]]"
      ]
     },
     "execution_count": 10,
     "metadata": {},
     "output_type": "execute_result"
    }
   ],
   "source": [
    "#q9\n",
    "header = [\"A\", \"B\", \"C\"]\n",
    "\n",
    "coord1 = {\"x\": 8, \"y\": 5}\n",
    "coord2 = {\"x\": 9, \"y\": 2}\n",
    "coord3 = {\"x\": 3, \"y\": 1}\n",
    "\n",
    "rows = [\n",
    "    [1, 6, coord1],\n",
    "    [3, 4, coord2],\n",
    "    [5, 2, coord3],\n",
    "]\n",
    "coord3[\"z\"]= 3.14\n",
    "rows"
   ]
  },
  {
   "cell_type": "code",
   "execution_count": 11,
   "id": "837e2f5d",
   "metadata": {},
   "outputs": [
    {
     "data": {
      "text/plain": [
       "8"
      ]
     },
     "execution_count": 11,
     "metadata": {},
     "output_type": "execute_result"
    }
   ],
   "source": [
    "#q10\n",
    "rows[0][-1][\"x\"]"
   ]
  },
  {
   "cell_type": "code",
   "execution_count": 12,
   "id": "dba9dbd0",
   "metadata": {},
   "outputs": [
    {
     "data": {
      "text/plain": [
       "[[1, 6, {'x': 8, 'y': 5}],\n",
       " [3, 9999, {'x': 9, 'y': 2}],\n",
       " [5, 2, {'x': 3, 'y': 1, 'z': 3.14}]]"
      ]
     },
     "execution_count": 12,
     "metadata": {},
     "output_type": "execute_result"
    }
   ],
   "source": [
    "#q11\n",
    "import copy\n",
    "v2 = copy.copy(rows)\n",
    "v2[0] = 8888    # first change\n",
    "v2[1][1] = 9999 # second change\n",
    "rows"
   ]
  },
  {
   "cell_type": "code",
   "execution_count": 13,
   "id": "e41337d5",
   "metadata": {},
   "outputs": [
    {
     "data": {
      "text/plain": [
       "10007"
      ]
     },
     "execution_count": 13,
     "metadata": {},
     "output_type": "execute_result"
    }
   ],
   "source": [
    "#q12\n",
    "l=[]\n",
    "r=[]\n",
    "for i in range(0,len(rows)):\n",
    "    r.append(rows[i][header.index(\"B\")])\n",
    "sum(r)"
   ]
  },
  {
   "cell_type": "code",
   "execution_count": 14,
   "id": "207cba3b",
   "metadata": {},
   "outputs": [
    {
     "data": {
      "text/plain": [
       "[[5, 2, {'x': 3, 'y': 1, 'z': 3.14}],\n",
       " [1, 6, {'x': 8, 'y': 5}],\n",
       " [3, 9999, {'x': 9, 'y': 2}]]"
      ]
     },
     "execution_count": 14,
     "metadata": {},
     "output_type": "execute_result"
    }
   ],
   "source": [
    "#q13\n",
    "def get_column_b(row):\n",
    "    return row[header.index(\"B\")]\n",
    "\n",
    "rows.sort(key=get_column_b)\n",
    "rows"
   ]
  },
  {
   "cell_type": "code",
   "execution_count": 15,
   "id": "053b8913",
   "metadata": {},
   "outputs": [],
   "source": [
    "from json import load"
   ]
  },
  {
   "cell_type": "code",
   "execution_count": 16,
   "id": "ecc0d8bd",
   "metadata": {},
   "outputs": [
    {
     "data": {
      "text/plain": [
       "351.68980166476797"
      ]
     },
     "execution_count": 16,
     "metadata": {},
     "output_type": "execute_result"
    }
   ],
   "source": [
    "#q14\n",
    "f = open(\"usd.json\")\n",
    "data = load(f)\n",
    "f.close()\n",
    "data['eur']['rate']*400"
   ]
  },
  {
   "cell_type": "code",
   "execution_count": 17,
   "id": "1818bf8d",
   "metadata": {},
   "outputs": [
    {
     "data": {
      "text/plain": [
       "1.5"
      ]
     },
     "execution_count": 17,
     "metadata": {},
     "output_type": "execute_result"
    }
   ],
   "source": [
    "#q15\n",
    "def divide(x,y):\n",
    "    try:\n",
    "        result = x/y\n",
    "        return result\n",
    "    except ZeroDivisionError:\n",
    "        return float(\"nan\")\n",
    "        \n",
    "        \n",
    "divide(3,2)"
   ]
  },
  {
   "cell_type": "code",
   "execution_count": 18,
   "id": "0a47f2a3",
   "metadata": {},
   "outputs": [
    {
     "data": {
      "text/plain": [
       "nan"
      ]
     },
     "execution_count": 18,
     "metadata": {},
     "output_type": "execute_result"
    }
   ],
   "source": [
    "#q16\n",
    "divide(-3,0)"
   ]
  },
  {
   "cell_type": "code",
   "execution_count": 19,
   "id": "41111e87",
   "metadata": {},
   "outputs": [
    {
     "data": {
      "text/plain": [
       "[2013, 2014, 2015, 2016, 2017, 2018]"
      ]
     },
     "execution_count": 19,
     "metadata": {},
     "output_type": "execute_result"
    }
   ],
   "source": [
    "#q17\n",
    "import os,sys\n",
    "import pandas as pd\n",
    "years = {}\n",
    "directory = os.listdir(\"home-computers\")\n",
    "for i in directory:\n",
    "    df = pd.read_csv(os.path.join(\"./home-computers\",i),skiprows=1)\n",
    "    for char in range(0,len(i)):\n",
    "        if i[char] == '.':\n",
    "            years[int(i[char - 4:char])] = df.set_index(\"Geographic Area Name\")\n",
    "            break\n",
    "sorted(list(years.keys()))"
   ]
  },
  {
   "cell_type": "code",
   "execution_count": 20,
   "id": "10722add",
   "metadata": {},
   "outputs": [
    {
     "data": {
      "text/plain": [
       "2371960"
      ]
     },
     "execution_count": 20,
     "metadata": {},
     "output_type": "execute_result"
    }
   ],
   "source": [
    "#q18\n",
    "df = years[2018]\n",
    "df.at[\"Wisconsin\",\"Estimate!!Total\"]"
   ]
  },
  {
   "cell_type": "code",
   "execution_count": 21,
   "id": "f03be492",
   "metadata": {},
   "outputs": [
    {
     "data": {
      "text/plain": [
       "10285814"
      ]
     },
     "execution_count": 21,
     "metadata": {},
     "output_type": "execute_result"
    }
   ],
   "source": [
    "#q19\n",
    "df = years[2018]\n",
    "sum(df[\"Estimate!!Total!!No Computer\"])\n"
   ]
  },
  {
   "cell_type": "code",
   "execution_count": 22,
   "id": "8bb3733e",
   "metadata": {},
   "outputs": [
    {
     "data": {
      "text/plain": [
       "0.12375641594322287"
      ]
     },
     "execution_count": 22,
     "metadata": {},
     "output_type": "execute_result"
    }
   ],
   "source": [
    "#q20\n",
    "df = years[2018]\n",
    "for i in range(0,len(df)):\n",
    "    s1 = df[\"Margin of Error!!Total!!No Computer\"]\n",
    "    s2 = df[\"Estimate!!Total!!No Computer\"]\n",
    "s3 = s1/s2\n",
    "max(s3)"
   ]
  },
  {
   "cell_type": "code",
   "execution_count": 23,
   "id": "c2e62179",
   "metadata": {},
   "outputs": [
    {
     "data": {
      "text/plain": [
       "{'Wisconsin': 9.582497175331794,\n",
       " 'Michigan': 8.936374942955922,\n",
       " 'Illinois': 8.524143737625552,\n",
       " 'Minnesota': 7.491847623005652,\n",
       " 'Indiana': 9.463486214247707,\n",
       " 'Iowa': 9.468929459023103}"
      ]
     },
     "execution_count": 23,
     "metadata": {},
     "output_type": "execute_result"
    }
   ],
   "source": [
    "#q21\n",
    "states = [\"Wisconsin\", \"Michigan\", \"Illinois\", \"Minnesota\", \"Indiana\", \"Iowa\"]\n",
    "percent = {}\n",
    "for i in states:\n",
    "    percent[i] = (df.at[i, \"Estimate!!Total!!No Computer\"] / df.at[i, \"Estimate!!Total\"])*100\n",
    "percent"
   ]
  },
  {
   "cell_type": "code",
   "execution_count": 24,
   "id": "2ea68c36",
   "metadata": {},
   "outputs": [
    {
     "data": {
      "text/plain": [
       "Text(0, 0.5, '% of Househould w/o Computers')"
      ]
     },
     "execution_count": 24,
     "metadata": {},
     "output_type": "execute_result"
    },
    {
     "data": {
      "image/png": "[encoded data removed]",
      "text/plain": [
       "<Figure size 432x288 with 1 Axes>"
      ]
     },
     "metadata": {
      "needs_background": "light"
     },
     "output_type": "display_data"
    }
   ],
   "source": [
    "#q22\n",
    "series = pd.Series(percent)\n",
    "plot = series.plot.bar()\n",
    "plot.set_xlabel(\"Geographic Area Name\")\n",
    "plot.set_ylabel(\"% of Househould w/o Computers\")"
   ]
  },
  {
   "cell_type": "code",
   "execution_count": 25,
   "id": "9d24bcf0",
   "metadata": {},
   "outputs": [
    {
     "data": {
      "text/plain": [
       "(0.0, 400.0)"
      ]
     },
     "execution_count": 25,
     "metadata": {},
     "output_type": "execute_result"
    },
    {
     "data": {
      "image/png": "[encoded data removed]",
      "text/plain": [
       "<Figure size 432x288 with 1 Axes>"
      ]
     },
     "metadata": {
      "needs_background": "light"
     },
     "output_type": "display_data"
    }
   ],
   "source": [
    "#q23\n",
    "wisco_comp = {}\n",
    "for i in range(2013,2018):\n",
    "    wisco_comp[i] = (years[i].at[\"Wisconsin\",\"Estimate!!Total!!No Computer\"]/1000)\n",
    "series = pd.Series(wisco_comp)\n",
    "lineplot = series.plot.line()\n",
    "lineplot.set_xlabel(\"Year\")\n",
    "lineplot.set_ylabel(\"WI Households without Computers (thousands)\")\n",
    "lineplot.set_xlim(2013,2018)\n",
    "lineplot.set_ylim(0,400)"
   ]
  },
  {
   "cell_type": "code",
   "execution_count": 26,
   "id": "559b3bde",
   "metadata": {},
   "outputs": [
    {
     "data": {
      "text/plain": [
       "Text(0.5, 0, 'Smartphones (Millions)')"
      ]
     },
     "execution_count": 26,
     "metadata": {},
     "output_type": "execute_result"
    },
    {
     "data": {
      "image/png": "[encoded data removed]",
      "text/plain": [
       "<Figure size 432x288 with 1 Axes>"
      ]
     },
     "metadata": {
      "needs_background": "light"
     },
     "output_type": "display_data"
    }
   ],
   "source": [
    "#q24\n",
    "smartphones = (df[\"Estimate!!Total!!Has one or more types of computing devices!!Smartphone\"]) /1000000\n",
    "smartphones1 = list(smartphones)\n",
    "tablet = (df[\"Estimate!!Total!!Has one or more types of computing devices!!Tablet or other portable wireless computer\"])/1000000\n",
    "tablet1 = list(tablet)\n",
    "\n",
    "dataf2 = pd.DataFrame(columns = [\"Smartphones\",\"Tablet\"])\n",
    "dataf2[\"Smartphones\"] = smartphones1\n",
    "dataf2[\"Tablet\"] = tablet1\n",
    "\n",
    "ax6 = dataf2.plot.scatter(x=\"Smartphones\",y=\"Tablet\")\n",
    "ax6.set_ylabel(\"Tablets (Millions)\")\n",
    "ax6.set_xlabel(\"Smartphones (Millions)\")"
   ]
  },
  {
   "cell_type": "code",
   "execution_count": 27,
   "id": "5d09a848",
   "metadata": {},
   "outputs": [],
   "source": [
    "import subprocess"
   ]
  },
  {
   "cell_type": "code",
   "execution_count": 28,
   "id": "64a893d8",
   "metadata": {},
   "outputs": [
    {
     "data": {
      "text/plain": [
       "'commit 660994efc761efdfd49ca442b73f6712dc77b6cf'"
      ]
     },
     "execution_count": 28,
     "metadata": {},
     "output_type": "execute_result"
    }
   ],
   "source": [
    "#q25\n",
    "output = subprocess.check_output([\"git\", \"log\"], cwd = \"flask\", encoding = 'utf-8').split(\"\\n\")\n",
    "output[0]"
   ]
  },
  {
   "cell_type": "code",
   "execution_count": 29,
   "id": "b65a0c00",
   "metadata": {},
   "outputs": [
    {
     "data": {
      "text/plain": [
       "['commit 660994efc761efdfd49ca442b73f6712dc77b6cf',\n",
       " 'Merge: 0fb5c2f0 9e50ad55',\n",
       " 'Author: David Lord <davidism@gmail.com>',\n",
       " 'Date:   Wed Dec 22 20:07:07 2021 -0700',\n",
       " '',\n",
       " \"    Merge branch '2.0.x'\",\n",
       " '',\n",
       " 'commit 9e50ad55ae6c3938c2ffd0cad89942c12fca865c',\n",
       " 'Author: David Lord <davidism@gmail.com>',\n",
       " 'Date:   Wed Dec 22 20:06:08 2021 -0700',\n",
       " '',\n",
       " '    pin os and python version in rtd build',\n",
       " '',\n",
       " 'commit 0fb5c2f034fc2f4cfe920408bb97c9d07ef0995e',\n",
       " 'Merge: 93a7f08b 1a1c7ea6',\n",
       " 'Author: David Lord <davidism@gmail.com>',\n",
       " 'Date:   Wed Dec 22 20:02:52 2021 -0700',\n",
       " '',\n",
       " \"    Merge branch '2.0.x'\",\n",
       " '',\n",
       " 'commit 1a1c7ea61860ad97a998b24532f0a89a5aee7914',\n",
       " 'Author: David Lord <davidism@gmail.com>',\n",
       " 'Date:   Wed Dec 22 19:58:07 2021 -0700',\n",
       " '',\n",
       " '    pin os and python version in rtd build',\n",
       " '    ',\n",
       " '    (cherry picked from commit 93a7f08bbca37de2ef73cc21ebfcb6e446087616)',\n",
       " '',\n",
       " 'commit 93a7f08bbca37de2ef73cc21ebfcb6e446087616',\n",
       " 'Author: David Lord <davidism@gmail.com>',\n",
       " 'Date:   Wed Dec 22 19:58:07 2021 -0700',\n",
       " '',\n",
       " '    pin os and python version in rtd build',\n",
       " '',\n",
       " 'commit 990a95fbcaaeafdc4bedc793352deb999f2b6be4',\n",
       " 'Merge: 6389c075 0122a4f3',\n",
       " 'Author: David Lord <davidism@gmail.com>',\n",
       " 'Date:   Wed Dec 22 18:24:48 2021 -0800',\n",
       " '',\n",
       " '    Merge pull request #4382',\n",
       " '    ',\n",
       " '    Fix the command for checking port on macOS in server docs',\n",
       " '',\n",
       " 'commit 0122a4f34f2d4f68fc64ca14532f2fbaed5c302f',\n",
       " 'Author: Grey Li <withlihui@gmail.com>',\n",
       " 'Date:   Sun Dec 12 12:05:44 2021 +0800',\n",
       " '',\n",
       " '    Fix the command for checking port on macOS in server docs',\n",
       " '',\n",
       " 'commit 6389c07530fe53f64e4c8de8dfdfceb4f088d197']"
      ]
     },
     "execution_count": 29,
     "metadata": {},
     "output_type": "execute_result"
    }
   ],
   "source": [
    "#q26\n",
    "output[0:50]"
   ]
  }
 ],
 "metadata": {
  "kernelspec": {
   "display_name": "Python 3 (ipykernel)",
   "language": "python",
   "name": "python3"
  },
  "language_info": {
   "codemirror_mode": {
    "name": "ipython",
    "version": 3
   },
   "file_extension": ".py",
   "mimetype": "text/x-python",
   "name": "python",
   "nbconvert_exporter": "python",
   "pygments_lexer": "ipython3",
   "version": "3.8.10"
  }
 },
 "nbformat": 4,
 "nbformat_minor": 5
}
